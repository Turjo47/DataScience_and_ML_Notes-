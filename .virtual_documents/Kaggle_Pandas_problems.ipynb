import pandas as pd
import numpy as np


# You can find this prolem using this link 
# https://www.kaggle.com/code/icarofreire/pandas-24-useful-exercises-with-solutions 


list1 = list ("homeland")
arr1 = np.arange(1,10)
dict1 = {"A" : 0,"B" : 1,"C": 2,"D": 3, "E": 5}


series1 = pd.Series(list1)
series1


series2 = pd.Series(arr1, index=["col1","col2","col3","col4","col5","col6","col7","col8","col9"])
series2


series3 = pd.Series(dict1)
series3


ser1 = pd.Series(list('abcdefghijklmnopqrstuvwxyz'))
ser2 = pd.Series(np.arange(26))


ser_df = pd.DataFrame(ser1,ser2).reset_index()
ser_df.head()


ser1.head()
ser_df = pd.DataFrame({"col1": ser1,"col2":ser2})
ser_df.head(5)


ser3 = pd.Series([1,2,3,4,5,6,7])
ser4 = pd.Series([3,4,5,6,7,8,9])
ser4


ser3[~ser3.isin(ser4)]


ser4[~ser4.isin(ser3)]


ser3_not_ser4 = ser3[~ser4.isin(ser3)]
ser4_not_ser3 = ser4[~ser3.isin(ser3)]
ser3_not_ser4.append(ser4_not_ser3, ignore_index =True)


state= np.random.RandomState(100)
ser = pd.Series(state.normal(10,5,25))


ser.describe()


ser.value_counts()


arr_np = pd.Series(np.random.randint(1,10,35))
arr_np


pd.DataFrame(arr_np.values.reshape(7,5))


salesDF = pd.read_csv("Dataset/5_Sales.csv")
salesDF


salesDF.head(3)


salesDF[['Region','Sales']]


salesDF.iloc[[1,2,5,7,3,43],[1,3]]


salesDF[salesDF['Sales']>25000]


print("Rowlen(salesDF.axes[0]))
print(len(salesDF.axes[1]))



