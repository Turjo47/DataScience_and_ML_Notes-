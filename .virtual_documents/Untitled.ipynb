import numpy as np








#cleating a basic numpy array

arr = np.array([1,2,3])
arr


type(arr)


# Creating array for functions. To create a zeros array you need to declare the row and column size using .zeros() function
arr_zero = np.zeros((3,3))
arr_zero



