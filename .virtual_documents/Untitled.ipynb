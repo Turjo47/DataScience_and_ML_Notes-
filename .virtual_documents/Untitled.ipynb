import pandas as pd
import numpy as np


# You can find this prolem using this link 
# https://www.kaggle.com/code/icarofreire/pandas-24-useful-exercises-with-solutions 


list1 = list ("homeland")
arr1 = np.arange(1,10)
dict1 = {"A" : 0,"B" : 1,"C": 2,"D": 3, "E": 5}


series1 = pd.Series(list1)
series1


series2 = pd.Series(arr1, index=["col1","col2","col3","col4","col5","col6","col7","col8","col9"])
series2


series3 = pd.Series(dict1)
series3


ser1 = pd.Series(list('abcdefghijklmnopqrstuvwxyz'))
ser2 = pd.Series(np.arange(26))


ser1_pd = pd.DataFrame(ser1,ser2)


ser1_pd



