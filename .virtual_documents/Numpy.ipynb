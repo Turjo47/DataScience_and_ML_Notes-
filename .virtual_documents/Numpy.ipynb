import numpy as np








#cleating a basic numpy array

arr = np.array([1,2,3])
arr





# Creating array for functions. To create a zeros,ones,linspace array you need to declare the row and column size using the .zeros(), ones(),linspace() function
arr_zero = np.zeros((3,3))
arr_zero


arr_ones = np.ones((3,3)) # (3,3)=> Shape of the array
arr_ones


arr_space = np.linspace(0,10,5) #(0,10,5)=> starts from 0 and end on 10 elements have 5 difference between)
arr_space








#Shape => get the shape of the array 
arr = np.array([1,2,3,5,6])
arr.shape
arr.size
arr.dtype
arr.reshape(5,1)





arr[2] # array indexing starts from 0 and [one element] is for 1D array


arr_2d = np.array([[2,3,5],[4,3,1],[9,8,0]])
arr_2d


arr_2d.ndim


arr_2d[1,2] #This worked like a metrix


 arr[0:2] # Slicing an array





arr = np.array([[1,2,3],[4,5,6]])
arr.shape


arr + 1 #adds 1 to each element in the array





#Element Wise 
arr1 = np.array([[1,2,3],[3,4,5]])
arr1.shape


arr + arr1 


ele_mult= arr * arr1
ele_mult


dot_mult = np.dot(arr, arr1.T)


dot_mult


arr.sum()


arr.mean()


# np.std => Standard deviation -> this means how much data is close to mean or avg
arr.std()


arr.min()


arr.max()


arr.T


m = np.median(arr)
m


var = np.var(arr)
var


invert = np.linalg.inv(arr)
invert



