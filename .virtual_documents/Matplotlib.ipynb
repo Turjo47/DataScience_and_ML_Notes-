import numpy as np
import matplotlib.pyplot as plt


X = np.linspace(0, 10*np.pi, 1000)
Y = np.sin(X)


fig, ax = plt.subplots()
ax.plot(X,Y)
plt.show()





#scatter graph
X = np.random.uniform(0,1,100)
Y = np.random.uniform(0,1,100)
plt.scatter(X,Y)
plt.show()


#bar chart
X = np.arange(10)
Y = np.random.uniform(0,1,10)
plt.bar(X,Y)
plt.show()


#Image data
Z = np.random.uniform(0,1,(8,8))
plt.imshow(Z)
plt.show()


Z=np.random.uniform(0,1,(8,8))
