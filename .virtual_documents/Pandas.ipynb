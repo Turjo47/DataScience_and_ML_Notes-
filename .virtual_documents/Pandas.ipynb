import pandas as pd


#Pandas series => one row dataframe is a series 
a= [1,2,3]
myvar = pd.Series(a)
type(myvar)
print(myvar)


my_var = pd.Series(a, index=["x", "y", "z"]) # Custom index 
my_var





#baisc Dataframe 
data ={
    "calories" : [420,300,524],
    "duration":[45,26,23]
}
df_run = pd.DataFrame(data)
df_run


#import dataset from folders or directory
df = pd.read_csv("Dataset/1_Sales.csv") # Importing CSV dataset


df


pd.options.display.max_rows = 9999


df.head()


df.tail()


df_json= pd.read_json("Dataset/iris.json")
df_json


print(df_json.to_string())


print(df.to_string())





df 


new_df = df.dropna()
new_df



