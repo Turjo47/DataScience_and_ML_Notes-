{
 "cells": [
  {
   "cell_type": "code",
   "execution_count": 2,
   "id": "ceab3459-acff-404c-adf4-26d36de12606",
   "metadata": {},
   "outputs": [],
   "source": [
    "import numpy as np"
   ]
  },
  {
   "cell_type": "markdown",
   "id": "6096d3e1-48ef-4e45-9ee3-23c488c8fe37",
   "metadata": {},
   "source": [
    "## Numpy Array"
   ]
  },
  {
   "cell_type": "markdown",
   "id": "e82aca69-789c-42bc-9394-c8fbc71a188e",
   "metadata": {},
   "source": [
    "##### Numpy's array core functionalities come from its ndarray object, a multidimensional array of elements. The difference between numpy array and a Python list is a Python list can hold multiple of data. Still, nnumpy arrays are homogeneous, which means it can hold single or same type data/elements. "
   ]
  },
  {
   "cell_type": "code",
   "execution_count": 3,
   "id": "14d6f2bb-7b21-42c2-9470-2ae17619a2d4",
   "metadata": {},
   "outputs": [
    {
     "data": {
      "text/plain": [
       "array([1, 2, 3])"
      ]
     },
     "execution_count": 3,
     "metadata": {},
     "output_type": "execute_result"
    }
   ],
   "source": [
    "#cleating a basic numpy array\n",
    "\n",
    "arr = np.array([1,2,3])\n",
    "arr"
   ]
  },
  {
   "cell_type": "markdown",
   "id": "54f96dde-b433-46ca-9c21-89be54272237",
   "metadata": {},
   "source": [
    "type(arr)"
   ]
  },
  {
   "cell_type": "code",
   "execution_count": 13,
   "id": "0a9dea83-a325-4110-b13b-bb70f399717e",
   "metadata": {},
   "outputs": [
    {
     "data": {
      "text/plain": [
       "array([[0., 0., 0.],\n",
       "       [0., 0., 0.],\n",
       "       [0., 0., 0.]])"
      ]
     },
     "execution_count": 13,
     "metadata": {},
     "output_type": "execute_result"
    }
   ],
   "source": [
    "# Creating array for functions. To create a zeros,ones,linspace array you need to declare the row and column size using the .zeros(), ones(),linspace() function\n",
    "arr_zero = np.zeros((3,3))\n",
    "arr_zero"
   ]
  },
  {
   "cell_type": "code",
   "execution_count": 12,
   "id": "97693a40-aa08-4640-b057-9b3bcbf4c2c4",
   "metadata": {},
   "outputs": [
    {
     "data": {
      "text/plain": [
       "array([[1., 1., 1.],\n",
       "       [1., 1., 1.],\n",
       "       [1., 1., 1.]])"
      ]
     },
     "execution_count": 12,
     "metadata": {},
     "output_type": "execute_result"
    }
   ],
   "source": [
    "arr_ones = np.ones((3,3)) # (3,3)=> Shape of the array\n",
    "arr_ones"
   ]
  },
  {
   "cell_type": "code",
   "execution_count": 15,
   "id": "8cf608f1-3571-4058-b217-d0c4af817b43",
   "metadata": {},
   "outputs": [
    {
     "data": {
      "text/plain": [
       "array([ 0. ,  2.5,  5. ,  7.5, 10. ])"
      ]
     },
     "execution_count": 15,
     "metadata": {},
     "output_type": "execute_result"
    }
   ],
   "source": [
    "arr_space = np.linspace(0,10,5) #(0,10,5)=> starts from 0 and end on 10 elements have 5 difference between)\n",
    "arr_space"
   ]
  },
  {
   "cell_type": "markdown",
   "id": "f069db4e-3723-4dd2-bb7a-7aa18bac6af6",
   "metadata": {},
   "source": [
    "## Array Attribute "
   ]
  },
  {
   "cell_type": "markdown",
   "id": "cc52c5aa-3c11-495c-930a-0b60544c4b83",
   "metadata": {},
   "source": [
    "#### array attributes are used to get information from arrays. These are extremely helpful when we use them."
   ]
  },
  {
   "cell_type": "code",
   "execution_count": 26,
   "id": "6a1b948a-9c67-41ad-9897-3f75c8bf3365",
   "metadata": {},
   "outputs": [
    {
     "data": {
      "text/plain": [
       "array([[1],\n",
       "       [2],\n",
       "       [3],\n",
       "       [5],\n",
       "       [6]])"
      ]
     },
     "execution_count": 26,
     "metadata": {},
     "output_type": "execute_result"
    }
   ],
   "source": [
    "#Shape => get the shape of the array \n",
    "arr = np.array([1,2,3,5,6])\n",
    "arr.shape\n",
    "arr.size\n",
    "arr.dtype\n",
    "arr.reshape(5,1)"
   ]
  },
  {
   "cell_type": "markdown",
   "id": "dfafff9e-69f3-4685-8b1a-5efdb54e39df",
   "metadata": {},
   "source": [
    "## Indexing & Slicing"
   ]
  },
  {
   "cell_type": "code",
   "execution_count": 28,
   "id": "a0be420b-4fe8-48e4-b212-ec91444edd87",
   "metadata": {},
   "outputs": [
    {
     "data": {
      "text/plain": [
       "3"
      ]
     },
     "execution_count": 28,
     "metadata": {},
     "output_type": "execute_result"
    }
   ],
   "source": [
    "arr[2] # array indexing starts from 0 and [one element] is for 1D array"
   ]
  },
  {
   "cell_type": "code",
   "execution_count": 32,
   "id": "b571db37-4398-4161-9f99-893bd7346efc",
   "metadata": {},
   "outputs": [
    {
     "data": {
      "text/plain": [
       "array([[2, 3, 5],\n",
       "       [4, 3, 1],\n",
       "       [9, 8, 0]])"
      ]
     },
     "execution_count": 32,
     "metadata": {},
     "output_type": "execute_result"
    }
   ],
   "source": [
    "arr_2d = np.array([[2,3,5],[4,3,1],[9,8,0]])\n",
    "arr_2d"
   ]
  },
  {
   "cell_type": "code",
   "execution_count": 33,
   "id": "abeb337e-5b92-4ad0-a63c-44e1b31356ba",
   "metadata": {},
   "outputs": [
    {
     "data": {
      "text/plain": [
       "2"
      ]
     },
     "execution_count": 33,
     "metadata": {},
     "output_type": "execute_result"
    }
   ],
   "source": [
    "arr_2d.ndim"
   ]
  },
  {
   "cell_type": "code",
   "execution_count": 34,
   "id": "b18d19c9-7f70-4c73-b466-7f01f94739ff",
   "metadata": {},
   "outputs": [
    {
     "data": {
      "text/plain": [
       "1"
      ]
     },
     "execution_count": 34,
     "metadata": {},
     "output_type": "execute_result"
    }
   ],
   "source": [
    "arr_2d[1,2] #This worked like a metrix"
   ]
  },
  {
   "cell_type": "code",
   "execution_count": 35,
   "id": "e4e46028-f881-4495-9de8-ab04afe2e41d",
   "metadata": {},
   "outputs": [
    {
     "data": {
      "text/plain": [
       "array([1, 2])"
      ]
     },
     "execution_count": 35,
     "metadata": {},
     "output_type": "execute_result"
    }
   ],
   "source": [
    " arr[0:2] # Slicing an array"
   ]
  },
  {
   "cell_type": "markdown",
   "id": "242dfb43-8dbc-4fdc-969c-eaca67856e0c",
   "metadata": {},
   "source": [
    "### Broadcasting\n",
    "#### Broadcasting allows Numpy to perform element-wise operation on arrays of different shapes and size. Numpy automatically expands array's dimensions to make them compatible for operations"
   ]
  },
  {
   "cell_type": "code",
   "execution_count": 16,
   "id": "a724007c-a00c-4fdb-b2bb-6b4aadd81d6a",
   "metadata": {},
   "outputs": [
    {
     "data": {
      "text/plain": [
       "(2, 3)"
      ]
     },
     "execution_count": 16,
     "metadata": {},
     "output_type": "execute_result"
    }
   ],
   "source": [
    "arr = np.array([[1,2,3],[4,5,6]])\n",
    "arr.shape"
   ]
  },
  {
   "cell_type": "code",
   "execution_count": 4,
   "id": "703d34d8-e2ad-4ea8-8f40-7686529a2fdb",
   "metadata": {},
   "outputs": [
    {
     "data": {
      "text/plain": [
       "array([[2, 3, 4],\n",
       "       [5, 6, 7]])"
      ]
     },
     "execution_count": 4,
     "metadata": {},
     "output_type": "execute_result"
    }
   ],
   "source": [
    "arr + 1 #adds 1 to each element in the array"
   ]
  },
  {
   "cell_type": "markdown",
   "id": "a29897a4-00c1-43ef-9846-30ca8f2486a9",
   "metadata": {},
   "source": [
    "### Mathematical Operations "
   ]
  },
  {
   "cell_type": "code",
   "execution_count": 15,
   "id": "00df9bdf-a67e-4203-8eee-fab052ac91f3",
   "metadata": {},
   "outputs": [
    {
     "data": {
      "text/plain": [
       "(2, 3)"
      ]
     },
     "execution_count": 15,
     "metadata": {},
     "output_type": "execute_result"
    }
   ],
   "source": [
    "#Element Wise \n",
    "arr1 = np.array([[1,2,3],[3,4,5]])\n",
    "arr1.shape"
   ]
  },
  {
   "cell_type": "code",
   "execution_count": 6,
   "id": "a2c97164-b5f1-476b-a77a-2b08393a5689",
   "metadata": {},
   "outputs": [
    {
     "data": {
      "text/plain": [
       "array([[ 2,  4,  6],\n",
       "       [ 7,  9, 11]])"
      ]
     },
     "execution_count": 6,
     "metadata": {},
     "output_type": "execute_result"
    }
   ],
   "source": [
    "arr + arr1 "
   ]
  },
  {
   "cell_type": "code",
   "execution_count": 11,
   "id": "1acdfcb7-cc7a-49e8-9f16-206c924d9361",
   "metadata": {},
   "outputs": [
    {
     "data": {
      "text/plain": [
       "array([[ 1,  4,  9],\n",
       "       [12, 20, 30]])"
      ]
     },
     "execution_count": 11,
     "metadata": {},
     "output_type": "execute_result"
    }
   ],
   "source": [
    "ele_mult= arr * arr1\n",
    "ele_mult"
   ]
  },
  {
   "cell_type": "code",
   "execution_count": 17,
   "id": "b3603ae5-2af9-4247-b711-c595ea3a7c5f",
   "metadata": {},
   "outputs": [],
   "source": [
    "dot_mult = np.dot(arr, arr1.T)"
   ]
  },
  {
   "cell_type": "code",
   "execution_count": 18,
   "id": "0b2bed87-1313-4ff0-9798-e22c99b94f80",
   "metadata": {},
   "outputs": [
    {
     "data": {
      "text/plain": [
       "array([[14, 26],\n",
       "       [32, 62]])"
      ]
     },
     "execution_count": 18,
     "metadata": {},
     "output_type": "execute_result"
    }
   ],
   "source": [
    "dot_mult"
   ]
  },
  {
   "cell_type": "code",
   "execution_count": 19,
   "id": "6f6a07c1-22a5-49fb-b94b-ae545644a6e6",
   "metadata": {},
   "outputs": [
    {
     "data": {
      "text/plain": [
       "21"
      ]
     },
     "execution_count": 19,
     "metadata": {},
     "output_type": "execute_result"
    }
   ],
   "source": [
    "arr.sum()"
   ]
  },
  {
   "cell_type": "code",
   "execution_count": 20,
   "id": "a56658f0-558c-4b68-a4ba-161f18972a38",
   "metadata": {},
   "outputs": [
    {
     "data": {
      "text/plain": [
       "3.5"
      ]
     },
     "execution_count": 20,
     "metadata": {},
     "output_type": "execute_result"
    }
   ],
   "source": [
    "arr.mean()"
   ]
  },
  {
   "cell_type": "code",
   "execution_count": 21,
   "id": "0872d64a-85fd-422b-9fa9-2659c7468bf5",
   "metadata": {},
   "outputs": [
    {
     "data": {
      "text/plain": [
       "1.707825127659933"
      ]
     },
     "execution_count": 21,
     "metadata": {},
     "output_type": "execute_result"
    }
   ],
   "source": [
    "# np.std\n",
    "arr.std()"
   ]
  },
  {
   "cell_type": "code",
   "execution_count": 22,
   "id": "1b85c3cc-de87-45dd-b82f-a96fc5791258",
   "metadata": {},
   "outputs": [
    {
     "data": {
      "text/plain": [
       "1"
      ]
     },
     "execution_count": 22,
     "metadata": {},
     "output_type": "execute_result"
    }
   ],
   "source": [
    "arr.min()"
   ]
  },
  {
   "cell_type": "code",
   "execution_count": 23,
   "id": "2b9096ee-331f-4625-8357-1cf62358d2ee",
   "metadata": {},
   "outputs": [
    {
     "data": {
      "text/plain": [
       "6"
      ]
     },
     "execution_count": 23,
     "metadata": {},
     "output_type": "execute_result"
    }
   ],
   "source": [
    "arr.max()"
   ]
  },
  {
   "cell_type": "code",
   "execution_count": 24,
   "id": "57941ecd-3ce4-4d85-bc26-55e1af2cb23b",
   "metadata": {},
   "outputs": [
    {
     "data": {
      "text/plain": [
       "array([[1, 4],\n",
       "       [2, 5],\n",
       "       [3, 6]])"
      ]
     },
     "execution_count": 24,
     "metadata": {},
     "output_type": "execute_result"
    }
   ],
   "source": [
    "arr.T"
   ]
  },
  {
   "cell_type": "code",
   "execution_count": null,
   "id": "98bbf1ea-6711-4461-8f58-268ad4bc8c82",
   "metadata": {},
   "outputs": [],
   "source": []
  }
 ],
 "metadata": {
  "kernelspec": {
   "display_name": "Python 3 (ipykernel)",
   "language": "python",
   "name": "python3"
  },
  "language_info": {
   "codemirror_mode": {
    "name": "ipython",
    "version": 3
   },
   "file_extension": ".py",
   "mimetype": "text/x-python",
   "name": "python",
   "nbconvert_exporter": "python",
   "pygments_lexer": "ipython3",
   "version": "3.12.4"
  }
 },
 "nbformat": 4,
 "nbformat_minor": 5
}
