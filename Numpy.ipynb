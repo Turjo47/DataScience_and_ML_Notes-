{
 "cells": [
  {
   "cell_type": "code",
   "execution_count": 1,
   "id": "ceab3459-acff-404c-adf4-26d36de12606",
   "metadata": {},
   "outputs": [],
   "source": [
    "import numpy as np"
   ]
  },
  {
   "cell_type": "markdown",
   "id": "6096d3e1-48ef-4e45-9ee3-23c488c8fe37",
   "metadata": {},
   "source": [
    "## Numpy Array"
   ]
  },
  {
   "cell_type": "markdown",
   "id": "e82aca69-789c-42bc-9394-c8fbc71a188e",
   "metadata": {},
   "source": [
    "##### Numpy's array core functionalities come from its ndarray object, a multidimensional array of elements. The difference between numpy array and a Python list is a Python list can hold multiple of data. Still, nnumpy arrays are homogeneous, which means it can hold single or same type data/elements. "
   ]
  },
  {
   "cell_type": "code",
   "execution_count": 3,
   "id": "14d6f2bb-7b21-42c2-9470-2ae17619a2d4",
   "metadata": {},
   "outputs": [
    {
     "data": {
      "text/plain": [
       "array([1, 2, 3])"
      ]
     },
     "execution_count": 3,
     "metadata": {},
     "output_type": "execute_result"
    }
   ],
   "source": [
    "#cleating a basic numpy array\n",
    "\n",
    "arr = np.array([1,2,3])\n",
    "arr"
   ]
  },
  {
   "cell_type": "code",
   "execution_count": 4,
   "id": "d58a082a-1a32-463f-a5d8-5b5d4172131b",
   "metadata": {},
   "outputs": [
    {
     "data": {
      "text/plain": [
       "numpy.ndarray"
      ]
     },
     "execution_count": 4,
     "metadata": {},
     "output_type": "execute_result"
    }
   ],
   "source": [
    "type(arr)"
   ]
  },
  {
   "cell_type": "code",
   "execution_count": 8,
   "id": "0a9dea83-a325-4110-b13b-bb70f399717e",
   "metadata": {},
   "outputs": [
    {
     "data": {
      "text/plain": [
       "array([[0., 0., 0.],\n",
       "       [0., 0., 0.],\n",
       "       [0., 0., 0.]])"
      ]
     },
     "execution_count": 8,
     "metadata": {},
     "output_type": "execute_result"
    }
   ],
   "source": [
    "# Creating array for functions. To create a zeros array you need to declare the row and column size using .zeros() function\n",
    "arr_zero = np.zeros((3,3))\n",
    "arr_zero"
   ]
  },
  {
   "cell_type": "code",
   "execution_count": null,
   "id": "97693a40-aa08-4640-b057-9b3bcbf4c2c4",
   "metadata": {},
   "outputs": [],
   "source": []
  }
 ],
 "metadata": {
  "kernelspec": {
   "display_name": "Python 3 (ipykernel)",
   "language": "python",
   "name": "python3"
  },
  "language_info": {
   "codemirror_mode": {
    "name": "ipython",
    "version": 3
   },
   "file_extension": ".py",
   "mimetype": "text/x-python",
   "name": "python",
   "nbconvert_exporter": "python",
   "pygments_lexer": "ipython3",
   "version": "3.12.4"
  }
 },
 "nbformat": 4,
 "nbformat_minor": 5
}
